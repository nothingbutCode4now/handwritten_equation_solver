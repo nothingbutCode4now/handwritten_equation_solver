{
  "nbformat": 4,
  "nbformat_minor": 0,
  "metadata": {
    "colab": {
      "provenance": []
    },
    "kernelspec": {
      "name": "python3",
      "display_name": "Python 3"
    },
    "language_info": {
      "name": "python"
    }
  },
  "cells": [
    {
      "cell_type": "markdown",
      "source": [
        "# Initialization of CNN Model"
      ],
      "metadata": {
        "id": "yFjgOHptiVDm"
      }
    },
    {
      "cell_type": "markdown",
      "source": [
        "Do upload the model folder from github before running this cell"
      ],
      "metadata": {
        "id": "APmNmdGnjM9k"
      }
    },
    {
      "cell_type": "code",
      "source": [
        "import pandas as pd\n",
        "import numpy as np\n",
        "import cv2\n",
        "import os\n",
        "from keras.layers import Conv2D, MaxPooling2D, Dense, Flatten, Dropout\n",
        "from keras.models import Sequential, model_from_json\n",
        "from tensorflow.keras.utils import to_categorical\n",
        "from os.path import isfile, join\n",
        "from keras import backend as K\n",
        "from os import listdir\n",
        "from PIL import Image\n",
        "\n",
        "\n",
        "def extract_imgs(img):\n",
        "    img = ~img # Invert the bits of image 255 -> 0\n",
        "    _, thresh = cv2.threshold(img, 127, 255, cv2.THRESH_BINARY) # Set bits > 127 to 1 and <= 127 to 0\n",
        "    ctrs, _ = cv2.findContours(thresh, cv2.RETR_TREE, cv2.CHAIN_APPROX_SIMPLE)\n",
        "    cnt = sorted(ctrs, key=lambda ctr: cv2.boundingRect(ctr)[0]) # Sort by x\n",
        "\n",
        "    img_data = []\n",
        "    rects = []\n",
        "    for c in cnt :\n",
        "        x, y, w, h = cv2.boundingRect(c)\n",
        "        rect = [x, y, w, h]\n",
        "        rects.append(rect)\n",
        "\n",
        "    bool_rect = []\n",
        "    # Check when two rectangles collide\n",
        "    for r in rects:\n",
        "        l = []\n",
        "        for rec in rects:\n",
        "            flag = 0\n",
        "            if rec != r:\n",
        "                if r[0] < (rec[0] + rec[2] + 10) and rec[0] < (r[0] + r[2] + 10) and r[1] < (rec[1] + rec[3] + 10) and rec[1] < (r[1] + r[3] + 10):\n",
        "                    flag = 1\n",
        "                l.append(flag)\n",
        "            else:\n",
        "                l.append(0)\n",
        "        bool_rect.append(l)\n",
        "\n",
        "    dump_rect = []\n",
        "    # Discard the small collide rectangle\n",
        "    for i in range(0, len(cnt)):\n",
        "        for j in range(0, len(cnt)):\n",
        "            if bool_rect[i][j] == 1:\n",
        "                area1 = rects[i][2] * rects[i][3]\n",
        "                area2 = rects[j][2] * rects[j][3]\n",
        "                if(area1 == min(area1,area2)):\n",
        "                    dump_rect.append(rects[i])\n",
        "\n",
        "    # Get the final rectangles\n",
        "    final_rect = [i for i in rects if i not in dump_rect]\n",
        "    for r in final_rect:\n",
        "        x = r[0]\n",
        "        y = r[1]\n",
        "        w = r[2]\n",
        "        h = r[3]\n",
        "\n",
        "        im_crop = thresh[y:y+h+10, x:x+w+10] # Crop the image as most as possible\n",
        "        im_resize = cv2.resize(im_crop, (28, 28)) # Resize to (28, 28)\n",
        "        im_resize = np.reshape(im_resize, (1, 28, 28)) # Flat the matrix\n",
        "        img_data.append(im_resize)\n",
        "\n",
        "    return img_data\n",
        "\n",
        "class ConvolutionalNeuralNetwork:\n",
        "    def __init__(self):\n",
        "        if os.path.exists('/content/model.json') and os.path.exists('/content/model_weights.h5'):\n",
        "            self.load_model()\n",
        "        else:\n",
        "            self.create_model()\n",
        "            self.train_model()\n",
        "            self.export_model()\n",
        "\n",
        "\n",
        "    def load_model(self):\n",
        "        print('Loading Model...')\n",
        "        model_json = open('/content/model.json', 'r')\n",
        "        loaded_model_json = model_json.read()\n",
        "        model_json.close()\n",
        "        loaded_model = model_from_json(loaded_model_json)\n",
        "\n",
        "        print('Loading weights...')\n",
        "        loaded_model.load_weights(\"/content/model_weights.h5\")\n",
        "\n",
        "        self.model = loaded_model\n",
        "\n",
        "    def predict(self, operationBytes):\n",
        "        Image.open(operationBytes).save('_aux_.png')\n",
        "        img = cv2.imread('_aux_.png',0)\n",
        "        os.remove('_aux_.png')\n",
        "        if img is not None:\n",
        "            img_data = extract_imgs(img)\n",
        "\n",
        "            operation = ''\n",
        "            for i in range(len(img_data)):\n",
        "                img_data[i] = np.array(img_data[i])\n",
        "                img_data[i] = img_data[i].reshape(-1, 28, 28, 1)\n",
        "\n",
        "                pred = self.model.predict(img_data[i])\n",
        "                result=np.argmax(pred,axis=1)\n",
        "                print(result[0])\n",
        "                if result[0] == 10:\n",
        "                    operation += '+'\n",
        "                elif result[0] == 11:\n",
        "                    operation += '-'\n",
        "                elif result[0] == 12:\n",
        "                    operation += 'x'\n",
        "                elif result[0] == 13:\n",
        "                    operation += 'a'\n",
        "                elif result[0] == 14:\n",
        "                    operation += 'b'\n",
        "                else:\n",
        "                    operation += str(result[0])\n",
        "            print(f\"Operation is {operation}\")\n",
        "            return operation\n",
        "CNN = ConvolutionalNeuralNetwork()\n"
      ],
      "metadata": {
        "id": "7P6c6E7zikDe",
        "colab": {
          "base_uri": "https://localhost:8080/"
        },
        "outputId": "cd0ee728-ced1-40b8-d3eb-946564ee981c"
      },
      "execution_count": null,
      "outputs": [
        {
          "output_type": "stream",
          "name": "stdout",
          "text": [
            "Loading Model...\n",
            "Loading weights...\n"
          ]
        }
      ]
    },
    {
      "cell_type": "markdown",
      "source": [
        "## Simple Polynomial Solving Code"
      ],
      "metadata": {
        "id": "HQWqlZWo4yFc"
      }
    },
    {
      "cell_type": "code",
      "source": [
        "#Importing the necessary Modules\n",
        "from google.colab.patches import cv2_imshow\n",
        "import base64\n",
        "from sympy.parsing.sympy_parser import parse_expr\n",
        "from io import BytesIO\n",
        "import cv2\n",
        "import re\n",
        "import numpy as np\n",
        "from sympy import symbols, Eq, solve\n",
        "im = cv2.imread(\"/content/eq7.jpeg\",0) # Read the User Image\n",
        "im = cv2.resize(im,(600,200)) # Resize the User Image as per Model Requirement\n",
        "\n",
        "# Thresholding the User Image\n",
        "ret, thresh = cv2.threshold(im, 127, 255, 0)\n",
        "kernel = np.zeros((3,3),np.uint8)\n",
        "thresh = cv2.dilate(thresh,kernel,iterations = 1)\n",
        "thresh = cv2.morphologyEx(thresh, cv2.MORPH_OPEN, kernel)\n",
        "thresh = thresh[10:,10:]\n",
        "cv2_imshow(thresh)\n",
        "\n",
        "\n",
        "\n",
        "# Conversion of the threshold image into base64 DataURL\n",
        "# This is done as our model requires base64 string to detect Equation/Polynomial\n",
        "\n",
        "retval, buffer_img= cv2.imencode('.png', thresh)\n",
        "data = base64.b64encode(buffer_img)\n",
        "data = str(data)\n",
        "data = str(data)[2:len(data)-1]\n",
        "operation = BytesIO(base64.urlsafe_b64decode(data))\n",
        "\n",
        "#Initializing the CNN model\n",
        "def modifier1(s):\n",
        "  x = re.split(r'\\+|\\-',s)\n",
        "  order = ''\n",
        "  for i in s:\n",
        "    if i=='+':\n",
        "        order+='+'\n",
        "    elif i == '-':\n",
        "        order+='-'\n",
        "  first = x[0]\n",
        "  second = x[1]\n",
        "  x[0] = first[:-1]+'*x**2'\n",
        "  x[1] = second[:-1]+'*x' if len(second)>1 else second+'*x'\n",
        "  eqn = x[0]+order[0]+x[1]+order[1]+x[2]\n",
        "  return eqn\n",
        "\n",
        "CNN = ConvolutionalNeuralNetwork()\n",
        "operation = CNN.predict(operation) # Feeding the base64 string to the the CNN Model\n",
        "eqn = modifier1(operation)\n",
        "x = symbols('x')\n",
        "eqn = parse_expr(eqn)\n",
        "\n",
        "print(eqn)\n",
        "solve((eqn), (x))"
      ],
      "metadata": {
        "id": "mQUpKJ2C48M5",
        "colab": {
          "base_uri": "https://localhost:8080/",
          "height": 502
        },
        "outputId": "e617fe2f-d125-4d5b-8d42-ae4413d0ea73"
      },
      "execution_count": null,
      "outputs": [
        {
          "output_type": "display_data",
          "data": {
            "text/plain": [
              "<PIL.Image.Image image mode=L size=590x190 at 0x7F73082F23E0>"
            ],
            "image/png": "[encoded data removed]"
          },
          "metadata": {}
        },
        {
          "output_type": "stream",
          "name": "stdout",
          "text": [
            "Loading Model...\n",
            "Loading weights...\n",
            "1/1 [==============================] - 0s 333ms/step\n",
            "7\n",
            "1/1 [==============================] - 0s 22ms/step\n",
            "2\n",
            "1/1 [==============================] - 0s 21ms/step\n",
            "10\n",
            "1/1 [==============================] - 0s 23ms/step\n",
            "6\n",
            "1/1 [==============================] - 0s 27ms/step\n",
            "10\n",
            "1/1 [==============================] - 0s 27ms/step\n",
            "2\n",
            "Operation is 72+6+2\n",
            "7*x**2 + 6*x + 2\n"
          ]
        },
        {
          "output_type": "execute_result",
          "data": {
            "text/plain": [
              "[-3/7 - sqrt(5)*I/7, -3/7 + sqrt(5)*I/7]"
            ]
          },
          "metadata": {},
          "execution_count": 2
        }
      ]
    },
    {
      "cell_type": "markdown",
      "source": [
        "## Linear Equation in Two Variable"
      ],
      "metadata": {
        "id": "r8NAcGTX7qH9"
      }
    },
    {
      "cell_type": "code",
      "source": [
        "#Importing the necessary Modules\n",
        "import re\n",
        "import numpy as np\n",
        "from sympy.parsing.sympy_parser import parse_expr\n",
        "from sympy import symbols, Eq, solve\n",
        "import cv2\n",
        "from google.colab.patches import cv2_imshow\n",
        "import base64\n",
        "from io import BytesIO\n",
        "\n",
        "ls = []\n",
        "filenames = [\"/content/eq21.jpeg\",\"/content/eq22.jpeg\"] #filenames for the linear equations\n",
        "#Run for loops for two times to get the two eqyations from the images specifed as filenames\n",
        "for i in range(0,2):\n",
        "  im = cv2.imread(filenames[i],0)# Read the User Image\n",
        "  im = cv2.resize(im,(600,200))# Resize the User Image as per Model Requirement\n",
        "\n",
        "  # Thresholding the User Image\n",
        "\n",
        "  ret, thresh = cv2.threshold(im, 127, 255, 0)\n",
        "  kernel = np.zeros((3,3),np.uint8)\n",
        "  thresh = cv2.dilate(thresh,kernel,iterations = 1)\n",
        "  thresh = cv2.morphologyEx(thresh, cv2.MORPH_OPEN, kernel)\n",
        "  thresh = thresh[10:,10:]\n",
        "  cv2_imshow(thresh)\n",
        "\n",
        "\n",
        "  # Conversion of the threshold image into base64 DataURL\n",
        "  # This is done as our model requires base64 string to detect Equation/Polynomial\n",
        "\n",
        "  retval, buffer_img= cv2.imencode('.png', thresh)\n",
        "  data = base64.b64encode(buffer_img)\n",
        "  data = str(data)\n",
        "  data = str(data)[2:len(data)-1]\n",
        "\n",
        "  #Initializing the CNN model\n",
        "  operation = BytesIO(base64.urlsafe_b64decode(data))\n",
        "  CNN = ConvolutionalNeuralNetwork()\n",
        "  operation = CNN.predict(operation)\n",
        "  ls.append(operation)\n",
        "\n",
        "\n",
        "def modifier(s):\n",
        "    x = re.split(r'\\+|\\-',s)\n",
        "\n",
        "    order = ''\n",
        "    eqn = ''\n",
        "\n",
        "    for i in s:\n",
        "        if i=='+':\n",
        "            order+='+'\n",
        "        elif i == '-':\n",
        "            order+='-'\n",
        "\n",
        "    for i in range(len(x)-1):\n",
        "        elem = x[i]\n",
        "        if len(elem)>1:\n",
        "          x[i] = elem[:-1]+'*'+elem[-1]\n",
        "\n",
        "    eqn = x[0]+order[0]+x[1]+order[1]+x[2]\n",
        "    return eqn\n",
        "\n",
        "#putting both equation in variables\n",
        "eq1 = modifier(ls[0])\n",
        "eq2 = modifier(ls[1])\n",
        "\n",
        "#Initializing the solving process using the sympy module\n",
        "\n",
        "x, y = symbols('a b')\n",
        "eq1 = parse_expr(eq1)\n",
        "eq1 = Eq((eq1))\n",
        "eq2 = parse_expr(eq2)\n",
        "eq2 = Eq((eq2))\n",
        "\n",
        "print(eq1)\n",
        "\n",
        "print(eq2)\n",
        "\n",
        "\n",
        "# solving the equation\n",
        "print(\"Values of 2 unknown variable are as follows:\")\n",
        "\n",
        "print(solve((eq1, eq2), (x, y)))\n"
      ],
      "metadata": {
        "id": "CIKotEvr7tMP",
        "colab": {
          "base_uri": "https://localhost:8080/",
          "height": 1000
        },
        "outputId": "80db77ec-f996-4813-9e1a-c7df92ee8241"
      },
      "execution_count": null,
      "outputs": [
        {
          "output_type": "display_data",
          "data": {
            "text/plain": [
              "<PIL.Image.Image image mode=L size=590x190 at 0x7F72F8E644F0>"
            ],
            "image/png": "[encoded data removed]"
          },
          "metadata": {}
        },
        {
          "output_type": "stream",
          "name": "stdout",
          "text": [
            "Loading Model...\n",
            "Loading weights...\n",
            "1/1 [==============================] - 0s 152ms/step\n",
            "3\n",
            "1/1 [==============================] - 0s 39ms/step\n",
            "13\n",
            "1/1 [==============================] - 0s 48ms/step\n",
            "10\n",
            "1/1 [==============================] - 0s 26ms/step\n",
            "14\n",
            "1/1 [==============================] - 0s 25ms/step\n",
            "11\n",
            "1/1 [==============================] - 0s 26ms/step\n",
            "5\n",
            "Operation is 3a+b-5\n"
          ]
        },
        {
          "output_type": "display_data",
          "data": {
            "text/plain": [
              "<PIL.Image.Image image mode=L size=590x190 at 0x7F72FBCD6AD0>"
            ],
            "image/png": "[encoded data removed]"
          },
          "metadata": {}
        },
        {
          "output_type": "stream",
          "name": "stdout",
          "text": [
            "Loading Model...\n",
            "Loading weights...\n",
            "1/1 [==============================] - 0s 84ms/step\n",
            "13\n",
            "1/1 [==============================] - 0s 28ms/step\n",
            "10\n",
            "1/1 [==============================] - 0s 22ms/step\n",
            "3\n",
            "1/1 [==============================] - 0s 26ms/step\n",
            "14\n",
            "1/1 [==============================] - 0s 23ms/step\n",
            "11\n",
            "1/1 [==============================] - 0s 22ms/step\n",
            "6\n",
            "Operation is a+3b-6\n",
            "Eq(3*a + b - 5, 0)\n",
            "Eq(a + 3*b - 6, 0)\n",
            "Values of 2 unknown variable are as follows:\n",
            "{a: 9/8, b: 13/8}\n"
          ]
        },
        {
          "output_type": "stream",
          "name": "stderr",
          "text": [
            "<ipython-input-5-647f0b3e5363>:71: SymPyDeprecationWarning: \n",
            "\n",
            "Eq(expr) with a single argument with the right-hand side\n",
            "defaulting to 0 is deprecated. Use Eq(expr, 0) instead.\n",
            "\n",
            "See https://docs.sympy.org/latest/explanation/active-deprecations.html#deprecated-eq-expr\n",
            "for details.\n",
            "\n",
            "This has been deprecated since SymPy version 1.5. It\n",
            "will be removed in a future version of SymPy.\n",
            "\n",
            "  eq1 = Eq((eq1))\n"
          ]
        }
      ]
    }
  ]
}